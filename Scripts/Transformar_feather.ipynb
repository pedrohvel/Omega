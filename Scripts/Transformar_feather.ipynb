{
 "cells": [
  {
   "cell_type": "code",
   "execution_count": 3,
   "metadata": {},
   "outputs": [
    {
     "name": "stdout",
     "output_type": "stream",
     "text": [
      "Arquivo Feather salvo em: C:/Users/Pedro/Documents/GitHub/Omega/Pentaho/DATAWAREHOUSE.feather\n"
     ]
    }
   ],
   "source": [
    "import pandas as pd\n",
    "import pyarrow.feather as feather\n",
    "\n",
    "# Ler o arquivo CSV\n",
    "csv_file_path = \"C:/Users/Pedro/Documents/GitHub/Omega/Pentaho/DATAWAREHOUSE.csv\"\n",
    "df = pd.read_csv(csv_file_path)\n",
    "\n",
    "# Salvar como formato Feather\n",
    "feather_file_path = \"C:/Users/Pedro/Documents/GitHub/Omega/Pentaho/DATAWAREHOUSE.feather\"\n",
    "feather.write_feather(df, feather_file_path)\n",
    "\n",
    "print(f'Arquivo Feather salvo em: {feather_file_path}')\n"
   ]
  },
  {
   "cell_type": "code",
   "execution_count": 1,
   "metadata": {},
   "outputs": [],
   "source": [
    "import pandas as pd\n",
    "\n",
    "# Carregar o arquivo feather\n",
    "df = pd.read_feather(\"C:/Users/Pedro/Documents/GitHub/Omega/Pentaho/DATAWAREHOUSE.feather\")\n",
    "\n",
    "# Criar coluna alvo\n",
    "df['Target'] = (df['Revenue'] > 800000).astype(int)\n",
    "\n",
    "# Salvar o DataFrame com a nova coluna alvo no formato feather\n",
    "df.to_feather(\"C:/Users/Pedro/Documents/GitHub/Omega/Pentaho/DATAWAREHOUSE_Target.feather\")\n"
   ]
  }
 ],
 "metadata": {
  "kernelspec": {
   "display_name": "Python 3",
   "language": "python",
   "name": "python3"
  },
  "language_info": {
   "codemirror_mode": {
    "name": "ipython",
    "version": 3
   },
   "file_extension": ".py",
   "mimetype": "text/x-python",
   "name": "python",
   "nbconvert_exporter": "python",
   "pygments_lexer": "ipython3",
   "version": "3.11.7"
  }
 },
 "nbformat": 4,
 "nbformat_minor": 2
}
