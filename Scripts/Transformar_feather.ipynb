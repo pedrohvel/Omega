{
 "cells": [
  {
   "cell_type": "code",
   "execution_count": 1,
   "metadata": {},
   "outputs": [
    {
     "name": "stdout",
     "output_type": "stream",
     "text": [
      "Arquivo Parquet salvo em: C:/Users/Pedro/Documents/GitHub/Omega/Pentaho/DATAWAREHOUSE_Target.parquet\n"
     ]
    }
   ],
   "source": [
    "import pandas as pd\n",
    "import pyarrow as pa\n",
    "import pyarrow.parquet as pq\n",
    "\n",
    "# Ler o arquivo CSV\n",
    "csv_file_path = \"C:/Users/Pedro/Documents/GitHub/Omega/Pentaho/DATAWAREHOUSE.csv\"\n",
    "df = pd.read_csv(csv_file_path)\n",
    "\n",
    "# Adicionar coluna alvo\n",
    "df['Target'] = (df['Revenue'] > 800000).astype(int)\n",
    "\n",
    "# Converter para uma tabela Arrow\n",
    "table = pa.Table.from_pandas(df)\n",
    "\n",
    "# Caminho para o arquivo Parquet\n",
    "parquet_file_path = \"C:/Users/Pedro/Documents/GitHub/Omega/Pentaho/DATAWAREHOUSE_Target.parquet\"\n",
    "\n",
    "# Salvar como formato Parquet\n",
    "pq.write_table(table, parquet_file_path)\n",
    "\n",
    "print(f'Arquivo Parquet salvo em: {parquet_file_path}')"
   ]
  },
  {
   "cell_type": "code",
   "execution_count": 2,
   "metadata": {},
   "outputs": [
    {
     "name": "stdout",
     "output_type": "stream",
     "text": [
      "             Timestamp  Company_Name Industry_Type  Revenue  Expenses  Profit  \\\n",
      "0  2024-02-10 19:34:13  Allen-Vasque       Energia   786575    410534  111149   \n",
      "1  2024-02-09 19:34:13  Allen-Vasque       Energia   593903    673737  283205   \n",
      "2  2024-02-08 19:34:13  Allen-Vasque       Energia   641133    371929  127638   \n",
      "3  2024-02-07 19:34:13  Allen-Vasque       Energia   632057    670038  350012   \n",
      "4  2024-02-06 19:34:13  Allen-Vasque       Energia   646939    487158  269925   \n",
      "\n",
      "   Efficiency  Quality  Innovation  Satisfaction  Market_Share Key_Column  \\\n",
      "0         0.8      0.9         0.9           0.8           9.7     Key_0    \n",
      "1         0.8      0.8         0.8           0.7          10.1     Key_1    \n",
      "2         0.9      0.7         0.8           0.9           7.1     Key_2    \n",
      "3         0.9      0.7         0.9           0.7          18.8     Key_3    \n",
      "4         0.9      0.9         0.8           0.8           8.8     Key_4    \n",
      "\n",
      "   Mean_Value  Max_Value  Min_Value  Total_Production            Company_ID  \\\n",
      "0         0.7     786575     111149            9665.7  Energia_Allen-Vasque   \n",
      "1         0.5     673737     283205           10148.8  Energia_Allen-Vasque   \n",
      "2         0.5     641133     127638            7142.6  Energia_Allen-Vasque   \n",
      "3         0.6     670038     350012           18849.5  Energia_Allen-Vasque   \n",
      "4         0.6     646939     269925            8781.5  Energia_Allen-Vasque   \n",
      "\n",
      "   Target  \n",
      "0       0  \n",
      "1       0  \n",
      "2       0  \n",
      "3       0  \n",
      "4       0  \n",
      "Index(['Timestamp', 'Company_Name', 'Industry_Type', 'Revenue', 'Expenses',\n",
      "       'Profit', 'Efficiency', 'Quality', 'Innovation', 'Satisfaction',\n",
      "       'Market_Share', 'Key_Column', 'Mean_Value', 'Max_Value', 'Min_Value',\n",
      "       'Total_Production', 'Company_ID', 'Target'],\n",
      "      dtype='object')\n"
     ]
    }
   ],
   "source": [
    "import pyarrow.parquet as pq\n",
    "\n",
    "# Caminho para o arquivo Parquet\n",
    "parquet_file_path = \"C:/Users/Pedro/Documents/GitHub/Omega/Pentaho/DATAWAREHOUSE_Target.parquet\"\n",
    "\n",
    "# Ler o arquivo Parquet\n",
    "table = pq.read_table(parquet_file_path)\n",
    "\n",
    "# Converter para DataFrame Pandas\n",
    "df = table.to_pandas()\n",
    "\n",
    "# Exibir as 5 primeiras linhas e informações das colunas\n",
    "print(df.head())\n",
    "print(df.columns)\n"
   ]
  }
 ],
 "metadata": {
  "kernelspec": {
   "display_name": "Python 3",
   "language": "python",
   "name": "python3"
  },
  "language_info": {
   "codemirror_mode": {
    "name": "ipython",
    "version": 3
   },
   "file_extension": ".py",
   "mimetype": "text/x-python",
   "name": "python",
   "nbconvert_exporter": "python",
   "pygments_lexer": "ipython3",
   "version": "3.11.7"
  }
 },
 "nbformat": 4,
 "nbformat_minor": 2
}
